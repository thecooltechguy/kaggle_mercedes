{
 "cells": [
  {
   "cell_type": "code",
   "execution_count": 1,
   "metadata": {
    "collapsed": true
   },
   "outputs": [],
   "source": [
    "import pandas as pd, numpy as np"
   ]
  },
  {
   "cell_type": "code",
   "execution_count": 2,
   "metadata": {
    "collapsed": true
   },
   "outputs": [],
   "source": [
    "seed = 1\n",
    "np.random.seed(seed)"
   ]
  },
  {
   "cell_type": "code",
   "execution_count": 3,
   "metadata": {
    "collapsed": true
   },
   "outputs": [],
   "source": [
    "%matplotlib inline"
   ]
  },
  {
   "cell_type": "markdown",
   "metadata": {},
   "source": [
    "## Load data"
   ]
  },
  {
   "cell_type": "code",
   "execution_count": 4,
   "metadata": {},
   "outputs": [
    {
     "data": {
      "text/plain": [
       "((4209, 378), (4209, 377))"
      ]
     },
     "execution_count": 4,
     "metadata": {},
     "output_type": "execute_result"
    }
   ],
   "source": [
    "train_df = pd.read_csv(\"../data/train.csv\")\n",
    "test_df = pd.read_csv(\"../data/test.csv\")\n",
    "train_df.shape, test_df.shape"
   ]
  },
  {
   "cell_type": "code",
   "execution_count": 5,
   "metadata": {},
   "outputs": [
    {
     "data": {
      "text/html": [
       "<div>\n",
       "<style>\n",
       "    .dataframe thead tr:only-child th {\n",
       "        text-align: right;\n",
       "    }\n",
       "\n",
       "    .dataframe thead th {\n",
       "        text-align: left;\n",
       "    }\n",
       "\n",
       "    .dataframe tbody tr th {\n",
       "        vertical-align: top;\n",
       "    }\n",
       "</style>\n",
       "<table border=\"1\" class=\"dataframe\">\n",
       "  <thead>\n",
       "    <tr style=\"text-align: right;\">\n",
       "      <th></th>\n",
       "      <th>ID</th>\n",
       "      <th>y</th>\n",
       "      <th>X0</th>\n",
       "      <th>X1</th>\n",
       "      <th>X2</th>\n",
       "      <th>X3</th>\n",
       "      <th>X4</th>\n",
       "      <th>X5</th>\n",
       "      <th>X6</th>\n",
       "      <th>X8</th>\n",
       "      <th>...</th>\n",
       "      <th>X375</th>\n",
       "      <th>X376</th>\n",
       "      <th>X377</th>\n",
       "      <th>X378</th>\n",
       "      <th>X379</th>\n",
       "      <th>X380</th>\n",
       "      <th>X382</th>\n",
       "      <th>X383</th>\n",
       "      <th>X384</th>\n",
       "      <th>X385</th>\n",
       "    </tr>\n",
       "  </thead>\n",
       "  <tbody>\n",
       "    <tr>\n",
       "      <th>0</th>\n",
       "      <td>0</td>\n",
       "      <td>130.81</td>\n",
       "      <td>k</td>\n",
       "      <td>v</td>\n",
       "      <td>at</td>\n",
       "      <td>a</td>\n",
       "      <td>d</td>\n",
       "      <td>u</td>\n",
       "      <td>j</td>\n",
       "      <td>o</td>\n",
       "      <td>...</td>\n",
       "      <td>0</td>\n",
       "      <td>0</td>\n",
       "      <td>1</td>\n",
       "      <td>0</td>\n",
       "      <td>0</td>\n",
       "      <td>0</td>\n",
       "      <td>0</td>\n",
       "      <td>0</td>\n",
       "      <td>0</td>\n",
       "      <td>0</td>\n",
       "    </tr>\n",
       "    <tr>\n",
       "      <th>1</th>\n",
       "      <td>6</td>\n",
       "      <td>88.53</td>\n",
       "      <td>k</td>\n",
       "      <td>t</td>\n",
       "      <td>av</td>\n",
       "      <td>e</td>\n",
       "      <td>d</td>\n",
       "      <td>y</td>\n",
       "      <td>l</td>\n",
       "      <td>o</td>\n",
       "      <td>...</td>\n",
       "      <td>1</td>\n",
       "      <td>0</td>\n",
       "      <td>0</td>\n",
       "      <td>0</td>\n",
       "      <td>0</td>\n",
       "      <td>0</td>\n",
       "      <td>0</td>\n",
       "      <td>0</td>\n",
       "      <td>0</td>\n",
       "      <td>0</td>\n",
       "    </tr>\n",
       "    <tr>\n",
       "      <th>2</th>\n",
       "      <td>7</td>\n",
       "      <td>76.26</td>\n",
       "      <td>az</td>\n",
       "      <td>w</td>\n",
       "      <td>n</td>\n",
       "      <td>c</td>\n",
       "      <td>d</td>\n",
       "      <td>x</td>\n",
       "      <td>j</td>\n",
       "      <td>x</td>\n",
       "      <td>...</td>\n",
       "      <td>0</td>\n",
       "      <td>0</td>\n",
       "      <td>0</td>\n",
       "      <td>0</td>\n",
       "      <td>0</td>\n",
       "      <td>0</td>\n",
       "      <td>1</td>\n",
       "      <td>0</td>\n",
       "      <td>0</td>\n",
       "      <td>0</td>\n",
       "    </tr>\n",
       "    <tr>\n",
       "      <th>3</th>\n",
       "      <td>9</td>\n",
       "      <td>80.62</td>\n",
       "      <td>az</td>\n",
       "      <td>t</td>\n",
       "      <td>n</td>\n",
       "      <td>f</td>\n",
       "      <td>d</td>\n",
       "      <td>x</td>\n",
       "      <td>l</td>\n",
       "      <td>e</td>\n",
       "      <td>...</td>\n",
       "      <td>0</td>\n",
       "      <td>0</td>\n",
       "      <td>0</td>\n",
       "      <td>0</td>\n",
       "      <td>0</td>\n",
       "      <td>0</td>\n",
       "      <td>0</td>\n",
       "      <td>0</td>\n",
       "      <td>0</td>\n",
       "      <td>0</td>\n",
       "    </tr>\n",
       "    <tr>\n",
       "      <th>4</th>\n",
       "      <td>13</td>\n",
       "      <td>78.02</td>\n",
       "      <td>az</td>\n",
       "      <td>v</td>\n",
       "      <td>n</td>\n",
       "      <td>f</td>\n",
       "      <td>d</td>\n",
       "      <td>h</td>\n",
       "      <td>d</td>\n",
       "      <td>n</td>\n",
       "      <td>...</td>\n",
       "      <td>0</td>\n",
       "      <td>0</td>\n",
       "      <td>0</td>\n",
       "      <td>0</td>\n",
       "      <td>0</td>\n",
       "      <td>0</td>\n",
       "      <td>0</td>\n",
       "      <td>0</td>\n",
       "      <td>0</td>\n",
       "      <td>0</td>\n",
       "    </tr>\n",
       "  </tbody>\n",
       "</table>\n",
       "<p>5 rows × 378 columns</p>\n",
       "</div>"
      ],
      "text/plain": [
       "   ID       y  X0 X1  X2 X3 X4 X5 X6 X8  ...   X375  X376  X377  X378  X379  \\\n",
       "0   0  130.81   k  v  at  a  d  u  j  o  ...      0     0     1     0     0   \n",
       "1   6   88.53   k  t  av  e  d  y  l  o  ...      1     0     0     0     0   \n",
       "2   7   76.26  az  w   n  c  d  x  j  x  ...      0     0     0     0     0   \n",
       "3   9   80.62  az  t   n  f  d  x  l  e  ...      0     0     0     0     0   \n",
       "4  13   78.02  az  v   n  f  d  h  d  n  ...      0     0     0     0     0   \n",
       "\n",
       "   X380  X382  X383  X384  X385  \n",
       "0     0     0     0     0     0  \n",
       "1     0     0     0     0     0  \n",
       "2     0     1     0     0     0  \n",
       "3     0     0     0     0     0  \n",
       "4     0     0     0     0     0  \n",
       "\n",
       "[5 rows x 378 columns]"
      ]
     },
     "execution_count": 5,
     "metadata": {},
     "output_type": "execute_result"
    }
   ],
   "source": [
    "train_df.head()"
   ]
  },
  {
   "cell_type": "code",
   "execution_count": 6,
   "metadata": {},
   "outputs": [
    {
     "data": {
      "text/html": [
       "<div>\n",
       "<style>\n",
       "    .dataframe thead tr:only-child th {\n",
       "        text-align: right;\n",
       "    }\n",
       "\n",
       "    .dataframe thead th {\n",
       "        text-align: left;\n",
       "    }\n",
       "\n",
       "    .dataframe tbody tr th {\n",
       "        vertical-align: top;\n",
       "    }\n",
       "</style>\n",
       "<table border=\"1\" class=\"dataframe\">\n",
       "  <thead>\n",
       "    <tr style=\"text-align: right;\">\n",
       "      <th></th>\n",
       "      <th>ID</th>\n",
       "      <th>X0</th>\n",
       "      <th>X1</th>\n",
       "      <th>X2</th>\n",
       "      <th>X3</th>\n",
       "      <th>X4</th>\n",
       "      <th>X5</th>\n",
       "      <th>X6</th>\n",
       "      <th>X8</th>\n",
       "      <th>X10</th>\n",
       "      <th>...</th>\n",
       "      <th>X375</th>\n",
       "      <th>X376</th>\n",
       "      <th>X377</th>\n",
       "      <th>X378</th>\n",
       "      <th>X379</th>\n",
       "      <th>X380</th>\n",
       "      <th>X382</th>\n",
       "      <th>X383</th>\n",
       "      <th>X384</th>\n",
       "      <th>X385</th>\n",
       "    </tr>\n",
       "  </thead>\n",
       "  <tbody>\n",
       "    <tr>\n",
       "      <th>0</th>\n",
       "      <td>1</td>\n",
       "      <td>az</td>\n",
       "      <td>v</td>\n",
       "      <td>n</td>\n",
       "      <td>f</td>\n",
       "      <td>d</td>\n",
       "      <td>t</td>\n",
       "      <td>a</td>\n",
       "      <td>w</td>\n",
       "      <td>0</td>\n",
       "      <td>...</td>\n",
       "      <td>0</td>\n",
       "      <td>0</td>\n",
       "      <td>0</td>\n",
       "      <td>1</td>\n",
       "      <td>0</td>\n",
       "      <td>0</td>\n",
       "      <td>0</td>\n",
       "      <td>0</td>\n",
       "      <td>0</td>\n",
       "      <td>0</td>\n",
       "    </tr>\n",
       "    <tr>\n",
       "      <th>1</th>\n",
       "      <td>2</td>\n",
       "      <td>t</td>\n",
       "      <td>b</td>\n",
       "      <td>ai</td>\n",
       "      <td>a</td>\n",
       "      <td>d</td>\n",
       "      <td>b</td>\n",
       "      <td>g</td>\n",
       "      <td>y</td>\n",
       "      <td>0</td>\n",
       "      <td>...</td>\n",
       "      <td>0</td>\n",
       "      <td>0</td>\n",
       "      <td>1</td>\n",
       "      <td>0</td>\n",
       "      <td>0</td>\n",
       "      <td>0</td>\n",
       "      <td>0</td>\n",
       "      <td>0</td>\n",
       "      <td>0</td>\n",
       "      <td>0</td>\n",
       "    </tr>\n",
       "    <tr>\n",
       "      <th>2</th>\n",
       "      <td>3</td>\n",
       "      <td>az</td>\n",
       "      <td>v</td>\n",
       "      <td>as</td>\n",
       "      <td>f</td>\n",
       "      <td>d</td>\n",
       "      <td>a</td>\n",
       "      <td>j</td>\n",
       "      <td>j</td>\n",
       "      <td>0</td>\n",
       "      <td>...</td>\n",
       "      <td>0</td>\n",
       "      <td>0</td>\n",
       "      <td>0</td>\n",
       "      <td>1</td>\n",
       "      <td>0</td>\n",
       "      <td>0</td>\n",
       "      <td>0</td>\n",
       "      <td>0</td>\n",
       "      <td>0</td>\n",
       "      <td>0</td>\n",
       "    </tr>\n",
       "    <tr>\n",
       "      <th>3</th>\n",
       "      <td>4</td>\n",
       "      <td>az</td>\n",
       "      <td>l</td>\n",
       "      <td>n</td>\n",
       "      <td>f</td>\n",
       "      <td>d</td>\n",
       "      <td>z</td>\n",
       "      <td>l</td>\n",
       "      <td>n</td>\n",
       "      <td>0</td>\n",
       "      <td>...</td>\n",
       "      <td>0</td>\n",
       "      <td>0</td>\n",
       "      <td>0</td>\n",
       "      <td>1</td>\n",
       "      <td>0</td>\n",
       "      <td>0</td>\n",
       "      <td>0</td>\n",
       "      <td>0</td>\n",
       "      <td>0</td>\n",
       "      <td>0</td>\n",
       "    </tr>\n",
       "    <tr>\n",
       "      <th>4</th>\n",
       "      <td>5</td>\n",
       "      <td>w</td>\n",
       "      <td>s</td>\n",
       "      <td>as</td>\n",
       "      <td>c</td>\n",
       "      <td>d</td>\n",
       "      <td>y</td>\n",
       "      <td>i</td>\n",
       "      <td>m</td>\n",
       "      <td>0</td>\n",
       "      <td>...</td>\n",
       "      <td>1</td>\n",
       "      <td>0</td>\n",
       "      <td>0</td>\n",
       "      <td>0</td>\n",
       "      <td>0</td>\n",
       "      <td>0</td>\n",
       "      <td>0</td>\n",
       "      <td>0</td>\n",
       "      <td>0</td>\n",
       "      <td>0</td>\n",
       "    </tr>\n",
       "  </tbody>\n",
       "</table>\n",
       "<p>5 rows × 377 columns</p>\n",
       "</div>"
      ],
      "text/plain": [
       "   ID  X0 X1  X2 X3 X4 X5 X6 X8  X10  ...   X375  X376  X377  X378  X379  \\\n",
       "0   1  az  v   n  f  d  t  a  w    0  ...      0     0     0     1     0   \n",
       "1   2   t  b  ai  a  d  b  g  y    0  ...      0     0     1     0     0   \n",
       "2   3  az  v  as  f  d  a  j  j    0  ...      0     0     0     1     0   \n",
       "3   4  az  l   n  f  d  z  l  n    0  ...      0     0     0     1     0   \n",
       "4   5   w  s  as  c  d  y  i  m    0  ...      1     0     0     0     0   \n",
       "\n",
       "   X380  X382  X383  X384  X385  \n",
       "0     0     0     0     0     0  \n",
       "1     0     0     0     0     0  \n",
       "2     0     0     0     0     0  \n",
       "3     0     0     0     0     0  \n",
       "4     0     0     0     0     0  \n",
       "\n",
       "[5 rows x 377 columns]"
      ]
     },
     "execution_count": 6,
     "metadata": {},
     "output_type": "execute_result"
    }
   ],
   "source": [
    "test_df.head()"
   ]
  },
  {
   "cell_type": "code",
   "execution_count": 7,
   "metadata": {},
   "outputs": [
    {
     "data": {
      "text/plain": [
       "8417"
      ]
     },
     "execution_count": 7,
     "metadata": {},
     "output_type": "execute_result"
    }
   ],
   "source": [
    "train_df.ID.max()"
   ]
  },
  {
   "cell_type": "code",
   "execution_count": 8,
   "metadata": {},
   "outputs": [
    {
     "data": {
      "text/plain": [
       "8416"
      ]
     },
     "execution_count": 8,
     "metadata": {},
     "output_type": "execute_result"
    }
   ],
   "source": [
    "test_df.ID.max()"
   ]
  },
  {
   "cell_type": "markdown",
   "metadata": {},
   "source": [
    "# preprocessing"
   ]
  },
  {
   "cell_type": "code",
   "execution_count": 9,
   "metadata": {},
   "outputs": [
    {
     "name": "stderr",
     "output_type": "stream",
     "text": [
      "Using TensorFlow backend.\n"
     ]
    }
   ],
   "source": [
    "from keras.preprocessing.sequence import pad_sequences"
   ]
  },
  {
   "cell_type": "code",
   "execution_count": 10,
   "metadata": {
    "collapsed": true
   },
   "outputs": [],
   "source": [
    "from sklearn.preprocessing import LabelEncoder"
   ]
  },
  {
   "cell_type": "code",
   "execution_count": 11,
   "metadata": {
    "collapsed": true
   },
   "outputs": [],
   "source": [
    "# train_input = train_df.drop(\"ID\") First, experiment with keeping id\n",
    "train_input = train_df.copy()\n",
    "test_input = test_df.copy()"
   ]
  },
  {
   "cell_type": "code",
   "execution_count": 12,
   "metadata": {},
   "outputs": [
    {
     "data": {
      "text/plain": [
       "4209"
      ]
     },
     "execution_count": 12,
     "metadata": {},
     "output_type": "execute_result"
    }
   ],
   "source": [
    "num_train =len( train_input)\n",
    "num_train"
   ]
  },
  {
   "cell_type": "code",
   "execution_count": 13,
   "metadata": {},
   "outputs": [
    {
     "data": {
      "text/plain": [
       "(8418, 378)"
      ]
     },
     "execution_count": 13,
     "metadata": {},
     "output_type": "execute_result"
    }
   ],
   "source": [
    "full_input = pd.concat([train_input, test_input])\n",
    "full_input.shape"
   ]
  },
  {
   "cell_type": "code",
   "execution_count": 14,
   "metadata": {},
   "outputs": [
    {
     "data": {
      "text/plain": [
       "['X0', 'X1', 'X2', 'X3', 'X4', 'X5', 'X6', 'X8']"
      ]
     },
     "execution_count": 14,
     "metadata": {},
     "output_type": "execute_result"
    }
   ],
   "source": [
    "categorical_cols = full_input.select_dtypes(include=[np.object]).columns.tolist()\n",
    "categorical_cols"
   ]
  },
  {
   "cell_type": "code",
   "execution_count": 15,
   "metadata": {
    "collapsed": true
   },
   "outputs": [],
   "source": [
    "full_input = pd.get_dummies(full_input)"
   ]
  },
  {
   "cell_type": "code",
   "execution_count": 43,
   "metadata": {},
   "outputs": [
    {
     "name": "stdout",
     "output_type": "stream",
     "text": [
      "(4209, 581) (4209, 581)\n"
     ]
    },
    {
     "data": {
      "text/html": [
       "<div>\n",
       "<style>\n",
       "    .dataframe thead tr:only-child th {\n",
       "        text-align: right;\n",
       "    }\n",
       "\n",
       "    .dataframe thead th {\n",
       "        text-align: left;\n",
       "    }\n",
       "\n",
       "    .dataframe tbody tr th {\n",
       "        vertical-align: top;\n",
       "    }\n",
       "</style>\n",
       "<table border=\"1\" class=\"dataframe\">\n",
       "  <thead>\n",
       "    <tr style=\"text-align: right;\">\n",
       "      <th></th>\n",
       "      <th>ID</th>\n",
       "      <th>X10</th>\n",
       "      <th>X100</th>\n",
       "      <th>X101</th>\n",
       "      <th>X102</th>\n",
       "      <th>X103</th>\n",
       "      <th>X104</th>\n",
       "      <th>X105</th>\n",
       "      <th>X106</th>\n",
       "      <th>X107</th>\n",
       "      <th>...</th>\n",
       "      <th>X8_p</th>\n",
       "      <th>X8_q</th>\n",
       "      <th>X8_r</th>\n",
       "      <th>X8_s</th>\n",
       "      <th>X8_t</th>\n",
       "      <th>X8_u</th>\n",
       "      <th>X8_v</th>\n",
       "      <th>X8_w</th>\n",
       "      <th>X8_x</th>\n",
       "      <th>X8_y</th>\n",
       "    </tr>\n",
       "  </thead>\n",
       "  <tbody>\n",
       "    <tr>\n",
       "      <th>0</th>\n",
       "      <td>0</td>\n",
       "      <td>0</td>\n",
       "      <td>0</td>\n",
       "      <td>0</td>\n",
       "      <td>0</td>\n",
       "      <td>0</td>\n",
       "      <td>0</td>\n",
       "      <td>0</td>\n",
       "      <td>0</td>\n",
       "      <td>0</td>\n",
       "      <td>...</td>\n",
       "      <td>0</td>\n",
       "      <td>0</td>\n",
       "      <td>0</td>\n",
       "      <td>0</td>\n",
       "      <td>0</td>\n",
       "      <td>0</td>\n",
       "      <td>0</td>\n",
       "      <td>0</td>\n",
       "      <td>0</td>\n",
       "      <td>0</td>\n",
       "    </tr>\n",
       "    <tr>\n",
       "      <th>1</th>\n",
       "      <td>6</td>\n",
       "      <td>0</td>\n",
       "      <td>1</td>\n",
       "      <td>1</td>\n",
       "      <td>0</td>\n",
       "      <td>0</td>\n",
       "      <td>0</td>\n",
       "      <td>0</td>\n",
       "      <td>0</td>\n",
       "      <td>0</td>\n",
       "      <td>...</td>\n",
       "      <td>0</td>\n",
       "      <td>0</td>\n",
       "      <td>0</td>\n",
       "      <td>0</td>\n",
       "      <td>0</td>\n",
       "      <td>0</td>\n",
       "      <td>0</td>\n",
       "      <td>0</td>\n",
       "      <td>0</td>\n",
       "      <td>0</td>\n",
       "    </tr>\n",
       "    <tr>\n",
       "      <th>2</th>\n",
       "      <td>7</td>\n",
       "      <td>0</td>\n",
       "      <td>0</td>\n",
       "      <td>1</td>\n",
       "      <td>0</td>\n",
       "      <td>0</td>\n",
       "      <td>0</td>\n",
       "      <td>0</td>\n",
       "      <td>0</td>\n",
       "      <td>0</td>\n",
       "      <td>...</td>\n",
       "      <td>0</td>\n",
       "      <td>0</td>\n",
       "      <td>0</td>\n",
       "      <td>0</td>\n",
       "      <td>0</td>\n",
       "      <td>0</td>\n",
       "      <td>0</td>\n",
       "      <td>0</td>\n",
       "      <td>1</td>\n",
       "      <td>0</td>\n",
       "    </tr>\n",
       "    <tr>\n",
       "      <th>3</th>\n",
       "      <td>9</td>\n",
       "      <td>0</td>\n",
       "      <td>0</td>\n",
       "      <td>1</td>\n",
       "      <td>0</td>\n",
       "      <td>0</td>\n",
       "      <td>0</td>\n",
       "      <td>0</td>\n",
       "      <td>0</td>\n",
       "      <td>0</td>\n",
       "      <td>...</td>\n",
       "      <td>0</td>\n",
       "      <td>0</td>\n",
       "      <td>0</td>\n",
       "      <td>0</td>\n",
       "      <td>0</td>\n",
       "      <td>0</td>\n",
       "      <td>0</td>\n",
       "      <td>0</td>\n",
       "      <td>0</td>\n",
       "      <td>0</td>\n",
       "    </tr>\n",
       "    <tr>\n",
       "      <th>4</th>\n",
       "      <td>13</td>\n",
       "      <td>0</td>\n",
       "      <td>0</td>\n",
       "      <td>1</td>\n",
       "      <td>0</td>\n",
       "      <td>0</td>\n",
       "      <td>0</td>\n",
       "      <td>0</td>\n",
       "      <td>0</td>\n",
       "      <td>0</td>\n",
       "      <td>...</td>\n",
       "      <td>0</td>\n",
       "      <td>0</td>\n",
       "      <td>0</td>\n",
       "      <td>0</td>\n",
       "      <td>0</td>\n",
       "      <td>0</td>\n",
       "      <td>0</td>\n",
       "      <td>0</td>\n",
       "      <td>0</td>\n",
       "      <td>0</td>\n",
       "    </tr>\n",
       "  </tbody>\n",
       "</table>\n",
       "<p>5 rows × 581 columns</p>\n",
       "</div>"
      ],
      "text/plain": [
       "   ID  X10  X100  X101  X102  X103  X104  X105  X106  X107  ...   X8_p  X8_q  \\\n",
       "0   0    0     0     0     0     0     0     0     0     0  ...      0     0   \n",
       "1   6    0     1     1     0     0     0     0     0     0  ...      0     0   \n",
       "2   7    0     0     1     0     0     0     0     0     0  ...      0     0   \n",
       "3   9    0     0     1     0     0     0     0     0     0  ...      0     0   \n",
       "4  13    0     0     1     0     0     0     0     0     0  ...      0     0   \n",
       "\n",
       "   X8_r  X8_s  X8_t  X8_u  X8_v  X8_w  X8_x  X8_y  \n",
       "0     0     0     0     0     0     0     0     0  \n",
       "1     0     0     0     0     0     0     0     0  \n",
       "2     0     0     0     0     0     0     1     0  \n",
       "3     0     0     0     0     0     0     0     0  \n",
       "4     0     0     0     0     0     0     0     0  \n",
       "\n",
       "[5 rows x 581 columns]"
      ]
     },
     "execution_count": 43,
     "metadata": {},
     "output_type": "execute_result"
    }
   ],
   "source": [
    "train_input = full_input[full_input.y.notnull()]\n",
    "test_input = full_input[full_input.y.isnull()]\n",
    "test_input.drop('y', axis=1, inplace=True)\n",
    "print train_input.shape, test_input.shape\n",
    "train_input.head()"
   ]
  },
  {
   "cell_type": "code",
   "execution_count": 38,
   "metadata": {},
   "outputs": [
    {
     "data": {
      "text/plain": [
       "[['a', 'b'], ['hi'], ['hey', 'a'], ['hu', 'g']]"
      ]
     },
     "execution_count": 38,
     "metadata": {},
     "output_type": "execute_result"
    }
   ],
   "source": [
    "t = [['a','b']]\n",
    "t.append(['hi'])\n",
    "t.append(['hey', 'a'])\n",
    "t += [['hu', 'g']]\n",
    "t"
   ]
  },
  {
   "cell_type": "code",
   "execution_count": 97,
   "metadata": {
    "scrolled": true
   },
   "outputs": [],
   "source": [
    "# convert an array of values into a dataset matrix\n",
    "def create_dataset(dataset, full_dataset, look_back=5, is_train=True, pad_val = -1):\n",
    "    \n",
    "    dataX, dataY = [], []\n",
    "    \n",
    "    if is_train:\n",
    "        dropcols = [\"ID\", \"y\"]\n",
    "    else:\n",
    "        dropcols = [\"ID\"]\n",
    "    \n",
    "    for index, row in dataset.iterrows():\n",
    "        print 'is train: ' + str(is_train) + ': ' + str(index) + '\\r',\n",
    "        current_id = row.ID\n",
    "        last_n_previous_rows = full_dataset[full_dataset['ID'] < current_id].drop(dropcols, axis=1).tail(look_back).values\n",
    "        #last_n_previous_rows = pad_sequences([last_n_previous_rows], maxlen=look_back, padding='post', truncating='post', value=pad_val)[0]\n",
    "        x = last_n_previous_rows.tolist()\n",
    "        x.append(row.drop(dropcols).values.tolist())\n",
    "        dataX.append(x)\n",
    "        if is_train:\n",
    "            dataY.append(row.y)\n",
    "        \n",
    "    if is_train:\n",
    "        return dataX, dataY\n",
    "    else:\n",
    "        return dataX"
   ]
  },
  {
   "cell_type": "code",
   "execution_count": 99,
   "metadata": {},
   "outputs": [
    {
     "name": "stdout",
     "output_type": "stream",
     "text": [
      "is train: False: 4208\r"
     ]
    },
    {
     "data": {
      "text/plain": [
       "((4209,), (4209,), (4209,))"
      ]
     },
     "execution_count": 99,
     "metadata": {},
     "output_type": "execute_result"
    }
   ],
   "source": [
    "train_dataset_x, train_dataset_y = create_dataset(train_input, full_input, look_back=5, is_train=True, pad_val = -1)\n",
    "test_dataset_x = create_dataset(test_input, full_input, look_back=5, is_train=False, pad_val = -1)\n",
    "np.array(train_dataset_x).shape, np.array(train_dataset_y).shape, np.array(test_dataset_x).shape"
   ]
  },
  {
   "cell_type": "code",
   "execution_count": 107,
   "metadata": {
    "collapsed": true
   },
   "outputs": [
    {
     "ename": "ValueError",
     "evalue": "cannot convert float NaN to integer",
     "output_type": "error",
     "traceback": [
      "\u001b[0;31m---------------------------------------------------------------------------\u001b[0m",
      "\u001b[0;31mValueError\u001b[0m                                Traceback (most recent call last)",
      "\u001b[0;32m<ipython-input-107-61143a3b0f12>\u001b[0m in \u001b[0;36m<module>\u001b[0;34m()\u001b[0m\n\u001b[1;32m      1\u001b[0m \u001b[0mtrain_dataset_x_padded\u001b[0m \u001b[0;34m=\u001b[0m \u001b[0mpad_sequences\u001b[0m\u001b[0;34m(\u001b[0m\u001b[0mtrain_dataset_x\u001b[0m\u001b[0;34m,\u001b[0m \u001b[0mmaxlen\u001b[0m\u001b[0;34m=\u001b[0m\u001b[0;36m6\u001b[0m\u001b[0;34m,\u001b[0m \u001b[0mpadding\u001b[0m\u001b[0;34m=\u001b[0m\u001b[0;34m'pre'\u001b[0m\u001b[0;34m,\u001b[0m \u001b[0mtruncating\u001b[0m\u001b[0;34m=\u001b[0m\u001b[0;34m'pre'\u001b[0m\u001b[0;34m,\u001b[0m \u001b[0mvalue\u001b[0m\u001b[0;34m=\u001b[0m\u001b[0;34m-\u001b[0m\u001b[0;36m1\u001b[0m\u001b[0;34m)\u001b[0m\u001b[0;34m\u001b[0m\u001b[0m\n\u001b[0;32m----> 2\u001b[0;31m \u001b[0mtest_dataset_x_padded\u001b[0m \u001b[0;34m=\u001b[0m \u001b[0mpad_sequences\u001b[0m\u001b[0;34m(\u001b[0m\u001b[0mtest_dataset_x\u001b[0m\u001b[0;34m,\u001b[0m \u001b[0mmaxlen\u001b[0m\u001b[0;34m=\u001b[0m\u001b[0;36m6\u001b[0m\u001b[0;34m,\u001b[0m \u001b[0mpadding\u001b[0m\u001b[0;34m=\u001b[0m\u001b[0;34m'pre'\u001b[0m\u001b[0;34m,\u001b[0m \u001b[0mtruncating\u001b[0m\u001b[0;34m=\u001b[0m\u001b[0;34m'pre'\u001b[0m\u001b[0;34m,\u001b[0m \u001b[0mvalue\u001b[0m\u001b[0;34m=\u001b[0m\u001b[0;34m-\u001b[0m\u001b[0;36m1\u001b[0m\u001b[0;34m)\u001b[0m\u001b[0;34m\u001b[0m\u001b[0m\n\u001b[0m",
      "\u001b[0;32m/usr/local/lib/python2.7/dist-packages/keras/preprocessing/sequence.pyc\u001b[0m in \u001b[0;36mpad_sequences\u001b[0;34m(sequences, maxlen, dtype, padding, truncating, value)\u001b[0m\n\u001b[1;32m     67\u001b[0m \u001b[0;34m\u001b[0m\u001b[0m\n\u001b[1;32m     68\u001b[0m         \u001b[0;31m# check `trunc` has expected shape\u001b[0m\u001b[0;34m\u001b[0m\u001b[0;34m\u001b[0m\u001b[0m\n\u001b[0;32m---> 69\u001b[0;31m         \u001b[0mtrunc\u001b[0m \u001b[0;34m=\u001b[0m \u001b[0mnp\u001b[0m\u001b[0;34m.\u001b[0m\u001b[0masarray\u001b[0m\u001b[0;34m(\u001b[0m\u001b[0mtrunc\u001b[0m\u001b[0;34m,\u001b[0m \u001b[0mdtype\u001b[0m\u001b[0;34m=\u001b[0m\u001b[0mdtype\u001b[0m\u001b[0;34m)\u001b[0m\u001b[0;34m\u001b[0m\u001b[0m\n\u001b[0m\u001b[1;32m     70\u001b[0m         \u001b[0;32mif\u001b[0m \u001b[0mtrunc\u001b[0m\u001b[0;34m.\u001b[0m\u001b[0mshape\u001b[0m\u001b[0;34m[\u001b[0m\u001b[0;36m1\u001b[0m\u001b[0;34m:\u001b[0m\u001b[0;34m]\u001b[0m \u001b[0;34m!=\u001b[0m \u001b[0msample_shape\u001b[0m\u001b[0;34m:\u001b[0m\u001b[0;34m\u001b[0m\u001b[0m\n\u001b[1;32m     71\u001b[0m             raise ValueError('Shape of sample %s of sequence at position %s is different from expected shape %s' %\n",
      "\u001b[0;32m/usr/local/lib/python2.7/dist-packages/numpy/core/numeric.pyc\u001b[0m in \u001b[0;36masarray\u001b[0;34m(a, dtype, order)\u001b[0m\n\u001b[1;32m    529\u001b[0m \u001b[0;34m\u001b[0m\u001b[0m\n\u001b[1;32m    530\u001b[0m     \"\"\"\n\u001b[0;32m--> 531\u001b[0;31m     \u001b[0;32mreturn\u001b[0m \u001b[0marray\u001b[0m\u001b[0;34m(\u001b[0m\u001b[0ma\u001b[0m\u001b[0;34m,\u001b[0m \u001b[0mdtype\u001b[0m\u001b[0;34m,\u001b[0m \u001b[0mcopy\u001b[0m\u001b[0;34m=\u001b[0m\u001b[0mFalse\u001b[0m\u001b[0;34m,\u001b[0m \u001b[0morder\u001b[0m\u001b[0;34m=\u001b[0m\u001b[0morder\u001b[0m\u001b[0;34m)\u001b[0m\u001b[0;34m\u001b[0m\u001b[0m\n\u001b[0m\u001b[1;32m    532\u001b[0m \u001b[0;34m\u001b[0m\u001b[0m\n\u001b[1;32m    533\u001b[0m \u001b[0;34m\u001b[0m\u001b[0m\n",
      "\u001b[0;31mValueError\u001b[0m: cannot convert float NaN to integer"
     ]
    }
   ],
   "source": [
    "train_dataset_x_padded = pad_sequences(train_dataset_x, maxlen=6, padding='pre', truncating='pre', value=-1)\n",
    "test_dataset_x_padded = pad_sequences(test_dataset_x, maxlen=6, padding='pre', truncating='pre', value=-1)"
   ]
  },
  {
   "cell_type": "code",
   "execution_count": 120,
   "metadata": {},
   "outputs": [
    {
     "data": {
      "text/plain": [
       "(array([], dtype=int64), array([], dtype=int64))"
      ]
     },
     "execution_count": 120,
     "metadata": {},
     "output_type": "execute_result"
    }
   ],
   "source": [
    "np.where(np.array(test_dataset_x[3]) == np.NaN)"
   ]
  },
  {
   "cell_type": "code",
   "execution_count": 126,
   "metadata": {},
   "outputs": [],
   "source": [
    "train_dataset_y = np.array(train_dataset_y)"
   ]
  },
  {
   "cell_type": "markdown",
   "metadata": {},
   "source": [
    "## model"
   ]
  },
  {
   "cell_type": "code",
   "execution_count": 141,
   "metadata": {
    "collapsed": true
   },
   "outputs": [],
   "source": [
    "from keras.models import Sequential\n",
    "from keras.layers import Dense, Dropout, LSTM, GRU, Masking\n",
    "from keras.layers.normalization import BatchNormalization\n",
    "from keras.layers.wrappers import Bidirectional\n",
    "from keras import backend as K"
   ]
  },
  {
   "cell_type": "code",
   "execution_count": 124,
   "metadata": {
    "collapsed": true
   },
   "outputs": [],
   "source": [
    "from keras_tqdm import TQDMNotebookCallback"
   ]
  },
  {
   "cell_type": "code",
   "execution_count": 142,
   "metadata": {
    "collapsed": true
   },
   "outputs": [],
   "source": [
    "def r2_keras(y_true, y_pred):\n",
    "    SS_res =  K.sum(K.square(y_true - y_pred)) \n",
    "    SS_tot = K.sum(K.square(y_true - K.mean(y_true))) \n",
    "    return ( 1 - SS_res/(SS_tot + K.epsilon()) )"
   ]
  },
  {
   "cell_type": "code",
   "execution_count": 146,
   "metadata": {},
   "outputs": [],
   "source": [
    "model = Sequential()\n",
    "model.add(Masking(mask_value=-1, input_shape=(5 + 1, 579)))\n",
    "model.add(LSTM(64))\n",
    "model.add(Dropout(0.2))\n",
    "model.add(Dense(16, activation='relu'))\n",
    "model.add(Dropout(0.2))\n",
    "model.add(Dense(1, activation='relu'))\n",
    "\n",
    "model.compile(loss='mse', optimizer='adam', metrics=[r2_keras])"
   ]
  },
  {
   "cell_type": "code",
   "execution_count": 147,
   "metadata": {},
   "outputs": [
    {
     "name": "stdout",
     "output_type": "stream",
     "text": [
      "Train on 3367 samples, validate on 842 samples\n",
      "Epoch 1/200\n",
      "45s - loss: 7689.0397 - r2_keras: -5.3958e+01 - val_loss: 5271.8173 - val_r2_keras: -4.2566e+01\n",
      "Epoch 2/200\n",
      "4s - loss: 3946.5084 - r2_keras: -2.6507e+01 - val_loss: 2009.6310 - val_r2_keras: -1.5535e+01\n",
      "Epoch 3/200\n",
      "5s - loss: 1519.8551 - r2_keras: -9.3897e+00 - val_loss: 471.6571 - val_r2_keras: -2.8142e+00\n",
      "Epoch 4/200\n",
      "6s - loss: 784.3577 - r2_keras: -4.3673e+00 - val_loss: 173.4830 - val_r2_keras: -3.6227e-01\n",
      "Epoch 5/200\n",
      "5s - loss: 717.4120 - r2_keras: -3.9739e+00 - val_loss: 145.6674 - val_r2_keras: -1.3679e-01\n",
      "Epoch 6/200\n",
      "5s - loss: 701.6817 - r2_keras: -3.9650e+00 - val_loss: 137.7748 - val_r2_keras: -7.3827e-02\n",
      "Epoch 7/200\n",
      "6s - loss: 701.1729 - r2_keras: -3.9468e+00 - val_loss: 140.0201 - val_r2_keras: -9.1618e-02\n",
      "Epoch 8/200\n",
      "8s - loss: 682.1189 - r2_keras: -3.6570e+00 - val_loss: 143.4256 - val_r2_keras: -1.1880e-01\n",
      "Epoch 9/200\n",
      "8s - loss: 722.1145 - r2_keras: -3.9262e+00 - val_loss: 141.7374 - val_r2_keras: -1.0530e-01\n",
      "Epoch 10/200\n",
      "7s - loss: 692.1655 - r2_keras: -3.7396e+00 - val_loss: 143.0215 - val_r2_keras: -1.1557e-01\n",
      "Epoch 11/200\n",
      "7s - loss: 683.3565 - r2_keras: -3.6174e+00 - val_loss: 141.0842 - val_r2_keras: -1.0009e-01\n",
      "Epoch 12/200\n",
      "6s - loss: 701.6929 - r2_keras: -3.9786e+00 - val_loss: 144.4798 - val_r2_keras: -1.2725e-01\n",
      "Epoch 13/200\n",
      "6s - loss: 680.2036 - r2_keras: -3.7118e+00 - val_loss: 145.2773 - val_r2_keras: -1.3365e-01\n",
      "Epoch 14/200\n",
      "6s - loss: 715.7265 - r2_keras: -3.9494e+00 - val_loss: 138.7080 - val_r2_keras: -8.1205e-02\n",
      "Epoch 15/200\n",
      "8s - loss: 708.1643 - r2_keras: -3.8773e+00 - val_loss: 137.0508 - val_r2_keras: -6.8124e-02\n",
      "Epoch 16/200\n",
      "8s - loss: 658.3472 - r2_keras: -3.6367e+00 - val_loss: 144.4560 - val_r2_keras: -1.2706e-01\n",
      "Epoch 17/200\n",
      "6s - loss: 676.6711 - r2_keras: -3.7490e+00 - val_loss: 143.7588 - val_r2_keras: -1.2147e-01\n",
      "Epoch 18/200\n",
      "6s - loss: 688.0832 - r2_keras: -3.7827e+00 - val_loss: 137.4313 - val_r2_keras: -7.1119e-02\n",
      "Epoch 19/200\n",
      "6s - loss: 682.7732 - r2_keras: -3.8351e+00 - val_loss: 143.1725 - val_r2_keras: -1.1678e-01\n",
      "Epoch 20/200\n",
      "6s - loss: 693.7483 - r2_keras: -3.8538e+00 - val_loss: 139.9758 - val_r2_keras: -9.1266e-02\n",
      "Epoch 21/200\n",
      "6s - loss: 699.4420 - r2_keras: -3.7926e+00 - val_loss: 139.5790 - val_r2_keras: -8.8113e-02\n",
      "Epoch 22/200\n",
      "6s - loss: 686.5810 - r2_keras: -3.6819e+00 - val_loss: 140.8745 - val_r2_keras: -9.8419e-02\n",
      "Epoch 23/200\n",
      "10s - loss: 664.1877 - r2_keras: -3.4544e+00 - val_loss: 145.8990 - val_r2_keras: -1.3865e-01\n",
      "Epoch 24/200\n",
      "9s - loss: 693.9181 - r2_keras: -3.7714e+00 - val_loss: 137.4395 - val_r2_keras: -7.1184e-02\n",
      "Epoch 25/200\n",
      "6s - loss: 679.2655 - r2_keras: -3.6453e+00 - val_loss: 138.6221 - val_r2_keras: -8.0525e-02\n",
      "Epoch 26/200\n",
      "6s - loss: 644.6633 - r2_keras: -3.5123e+00 - val_loss: 144.4778 - val_r2_keras: -1.2724e-01\n",
      "Epoch 27/200\n",
      "8s - loss: 692.1219 - r2_keras: -3.7263e+00 - val_loss: 138.4720 - val_r2_keras: -7.9336e-02\n",
      "Epoch 28/200\n",
      "8s - loss: 667.2302 - r2_keras: -3.6203e+00 - val_loss: 141.0176 - val_r2_keras: -9.9560e-02\n",
      "Epoch 29/200\n",
      "8s - loss: 704.4077 - r2_keras: -3.8821e+00 - val_loss: 141.4308 - val_r2_keras: -1.0286e-01\n",
      "Epoch 30/200\n",
      "7s - loss: 673.4427 - r2_keras: -3.6098e+00 - val_loss: 145.0062 - val_r2_keras: -1.3148e-01\n",
      "Epoch 31/200\n",
      "6s - loss: 669.9037 - r2_keras: -3.6232e+00 - val_loss: 140.2989 - val_r2_keras: -9.3836e-02\n",
      "Epoch 32/200\n",
      "6s - loss: 692.1475 - r2_keras: -3.6524e+00 - val_loss: 138.2462 - val_r2_keras: -7.7551e-02\n",
      "Epoch 33/200\n",
      "6s - loss: 645.1774 - r2_keras: -3.3438e+00 - val_loss: 143.6099 - val_r2_keras: -1.2028e-01\n",
      "Epoch 34/200\n",
      "7s - loss: 694.4917 - r2_keras: -3.7982e+00 - val_loss: 137.8088 - val_r2_keras: -7.4096e-02\n",
      "Epoch 35/200\n",
      "7s - loss: 656.6159 - r2_keras: -3.5026e+00 - val_loss: 143.8304 - val_r2_keras: -1.2205e-01\n",
      "Epoch 36/200\n",
      "8s - loss: 664.1051 - r2_keras: -3.5441e+00 - val_loss: 140.9183 - val_r2_keras: -9.8769e-02\n",
      "Epoch 37/200\n",
      "8s - loss: 671.2067 - r2_keras: -3.5720e+00 - val_loss: 139.6887 - val_r2_keras: -8.8984e-02\n",
      "Epoch 38/200\n",
      "7s - loss: 684.5790 - r2_keras: -3.6396e+00 - val_loss: 143.2910 - val_r2_keras: -1.1773e-01\n",
      "Epoch 39/200\n",
      "6s - loss: 726.5215 - r2_keras: -3.9331e+00 - val_loss: 139.8071 - val_r2_keras: -8.9925e-02\n",
      "Epoch 40/200\n",
      "10s - loss: 701.8476 - r2_keras: -3.7580e+00 - val_loss: 140.9683 - val_r2_keras: -9.9167e-02\n",
      "Epoch 41/200\n",
      "10s - loss: 682.7314 - r2_keras: -3.7115e+00 - val_loss: 144.1133 - val_r2_keras: -1.2431e-01\n",
      "Epoch 42/200\n",
      "8s - loss: 682.4720 - r2_keras: -3.6702e+00 - val_loss: 137.5849 - val_r2_keras: -7.2329e-02\n",
      "Epoch 43/200\n",
      "10s - loss: 675.3202 - r2_keras: -3.5845e+00 - val_loss: 139.2890 - val_r2_keras: -8.7065e-02\n",
      "Epoch 44/200\n",
      "7s - loss: 653.7182 - r2_keras: -3.4867e+00 - val_loss: 123.4589 - val_r2_keras: 0.0408\n",
      "Epoch 45/200\n",
      "7s - loss: 669.9205 - r2_keras: -3.7388e+00 - val_loss: 115.6141 - val_r2_keras: 0.1036\n",
      "Epoch 46/200\n",
      "8s - loss: 667.3187 - r2_keras: -3.6177e+00 - val_loss: 129.6199 - val_r2_keras: -9.0329e-03\n",
      "Epoch 47/200\n",
      "7s - loss: 641.9697 - r2_keras: -3.4979e+00 - val_loss: 104.2960 - val_r2_keras: 0.1928\n",
      "Epoch 48/200\n",
      "6s - loss: 627.6426 - r2_keras: -3.2756e+00 - val_loss: 96.4687 - val_r2_keras: 0.2511\n",
      "Epoch 49/200\n",
      "6s - loss: 564.9422 - r2_keras: -2.8384e+00 - val_loss: 79.9918 - val_r2_keras: 0.3819\n",
      "Epoch 50/200\n",
      "6s - loss: 530.6735 - r2_keras: -2.6705e+00 - val_loss: 59.6137 - val_r2_keras: 0.5445\n",
      "Epoch 51/200\n",
      "6s - loss: 522.4618 - r2_keras: -2.5665e+00 - val_loss: 56.5827 - val_r2_keras: 0.5671\n",
      "Epoch 52/200\n",
      "6s - loss: 524.3480 - r2_keras: -2.5897e+00 - val_loss: 63.4170 - val_r2_keras: 0.5114\n",
      "Epoch 53/200\n",
      "6s - loss: 514.9177 - r2_keras: -2.5053e+00 - val_loss: 55.5006 - val_r2_keras: 0.5767\n",
      "Epoch 54/200\n",
      "6s - loss: 510.4953 - r2_keras: -2.5107e+00 - val_loss: 50.6448 - val_r2_keras: 0.6140\n",
      "Epoch 55/200\n",
      "6s - loss: 514.0279 - r2_keras: -2.5926e+00 - val_loss: 50.0684 - val_r2_keras: 0.6171\n",
      "Epoch 56/200\n",
      "6s - loss: 525.1511 - r2_keras: -2.5946e+00 - val_loss: 48.0868 - val_r2_keras: 0.6328\n",
      "Epoch 57/200\n",
      "6s - loss: 514.9166 - r2_keras: -2.5452e+00 - val_loss: 48.6827 - val_r2_keras: 0.6278\n",
      "Epoch 58/200\n",
      "6s - loss: 507.3673 - r2_keras: -2.4318e+00 - val_loss: 60.4072 - val_r2_keras: 0.5333\n",
      "Epoch 59/200\n",
      "6s - loss: 510.7520 - r2_keras: -2.5595e+00 - val_loss: 53.6976 - val_r2_keras: 0.5872\n",
      "Epoch 60/200\n",
      "7s - loss: 511.2130 - r2_keras: -2.5690e+00 - val_loss: 62.6164 - val_r2_keras: 0.5133\n",
      "Epoch 61/200\n",
      "6s - loss: 514.4367 - r2_keras: -2.5535e+00 - val_loss: 55.5433 - val_r2_keras: 0.5721\n",
      "Epoch 62/200\n",
      "6s - loss: 474.5710 - r2_keras: -2.3722e+00 - val_loss: 49.3198 - val_r2_keras: 0.6212\n",
      "Epoch 63/200\n",
      "6s - loss: 502.6904 - r2_keras: -2.5353e+00 - val_loss: 61.0095 - val_r2_keras: 0.5261\n",
      "Epoch 64/200\n",
      "5s - loss: 512.9423 - r2_keras: -2.6007e+00 - val_loss: 46.7815 - val_r2_keras: 0.6412\n",
      "Epoch 65/200\n",
      "6s - loss: 479.5711 - r2_keras: -2.3247e+00 - val_loss: 48.7078 - val_r2_keras: 0.6264\n",
      "Epoch 66/200\n",
      "6s - loss: 514.6367 - r2_keras: -2.5805e+00 - val_loss: 49.1593 - val_r2_keras: 0.6243\n",
      "Epoch 67/200\n",
      "6s - loss: 513.8259 - r2_keras: -2.5748e+00 - val_loss: 46.6343 - val_r2_keras: 0.6417\n",
      "Epoch 68/200\n",
      "6s - loss: 481.3521 - r2_keras: -2.3105e+00 - val_loss: 52.7853 - val_r2_keras: 0.5970\n",
      "Epoch 69/200\n",
      "6s - loss: 498.9774 - r2_keras: -2.3893e+00 - val_loss: 50.2021 - val_r2_keras: 0.6156\n",
      "Epoch 70/200\n",
      "6s - loss: 513.0912 - r2_keras: -2.5424e+00 - val_loss: 51.2198 - val_r2_keras: 0.6070\n",
      "Epoch 71/200\n",
      "5s - loss: 490.1537 - r2_keras: -2.2931e+00 - val_loss: 55.5224 - val_r2_keras: 0.5706\n",
      "Epoch 72/200\n",
      "6s - loss: 486.3960 - r2_keras: -2.2450e+00 - val_loss: 49.8970 - val_r2_keras: 0.6174\n",
      "Epoch 73/200\n",
      "6s - loss: 492.8694 - r2_keras: -2.2650e+00 - val_loss: 50.8476 - val_r2_keras: 0.6092\n",
      "Epoch 74/200\n",
      "6s - loss: 533.4001 - r2_keras: -2.6209e+00 - val_loss: 54.7326 - val_r2_keras: 0.5797\n",
      "Epoch 75/200\n",
      "6s - loss: 521.6279 - r2_keras: -2.6522e+00 - val_loss: 46.7563 - val_r2_keras: 0.6418\n",
      "Epoch 76/200\n",
      "6s - loss: 509.5786 - r2_keras: -2.5166e+00 - val_loss: 55.5517 - val_r2_keras: 0.5714\n",
      "Epoch 77/200\n",
      "6s - loss: 500.9038 - r2_keras: -2.4747e+00 - val_loss: 48.1916 - val_r2_keras: 0.6314\n",
      "Epoch 78/200\n",
      "6s - loss: 516.3734 - r2_keras: -2.5596e+00 - val_loss: 46.9376 - val_r2_keras: 0.6395\n",
      "Epoch 79/200\n",
      "6s - loss: 521.7540 - r2_keras: -2.5227e+00 - val_loss: 48.5459 - val_r2_keras: 0.6282\n",
      "Epoch 80/200\n"
     ]
    },
    {
     "name": "stdout",
     "output_type": "stream",
     "text": [
      "6s - loss: 505.5726 - r2_keras: -2.5337e+00 - val_loss: 47.7678 - val_r2_keras: 0.6346\n",
      "Epoch 81/200\n",
      "6s - loss: 507.3315 - r2_keras: -2.5875e+00 - val_loss: 47.7992 - val_r2_keras: 0.6330\n",
      "Epoch 82/200\n",
      "6s - loss: 484.2725 - r2_keras: -2.3499e+00 - val_loss: 64.8897 - val_r2_keras: 0.4901\n",
      "Epoch 83/200\n",
      "6s - loss: 490.2745 - r2_keras: -2.3375e+00 - val_loss: 54.2948 - val_r2_keras: 0.5799\n",
      "Epoch 84/200\n",
      "6s - loss: 462.4170 - r2_keras: -2.2985e+00 - val_loss: 48.0762 - val_r2_keras: 0.6292\n",
      "Epoch 85/200\n",
      "6s - loss: 489.5366 - r2_keras: -2.3528e+00 - val_loss: 47.3577 - val_r2_keras: 0.6346\n",
      "Epoch 86/200\n",
      "6s - loss: 477.6763 - r2_keras: -2.3217e+00 - val_loss: 51.9801 - val_r2_keras: 0.5998\n",
      "Epoch 87/200\n",
      "6s - loss: 471.4435 - r2_keras: -2.2386e+00 - val_loss: 49.2821 - val_r2_keras: 0.6218\n",
      "Epoch 88/200\n",
      "7s - loss: 487.8778 - r2_keras: -2.2511e+00 - val_loss: 50.4240 - val_r2_keras: 0.6111\n",
      "Epoch 89/200\n",
      "6s - loss: 503.6014 - r2_keras: -2.5004e+00 - val_loss: 49.9199 - val_r2_keras: 0.6148\n",
      "Epoch 90/200\n",
      "6s - loss: 484.9537 - r2_keras: -2.3048e+00 - val_loss: 55.3154 - val_r2_keras: 0.5718\n",
      "Epoch 91/200\n",
      "6s - loss: 466.8644 - r2_keras: -2.2367e+00 - val_loss: 55.4340 - val_r2_keras: 0.5670\n",
      "Epoch 92/200\n",
      "6s - loss: 492.6511 - r2_keras: -2.3670e+00 - val_loss: 48.8756 - val_r2_keras: 0.6245\n",
      "Epoch 93/200\n",
      "6s - loss: 477.8535 - r2_keras: -2.3174e+00 - val_loss: 60.6885 - val_r2_keras: 0.5326\n",
      "Epoch 94/200\n",
      "6s - loss: 465.5278 - r2_keras: -2.2003e+00 - val_loss: 56.4765 - val_r2_keras: 0.5654\n",
      "Epoch 95/200\n",
      "6s - loss: 453.6169 - r2_keras: -2.0695e+00 - val_loss: 54.9627 - val_r2_keras: 0.5754\n",
      "Epoch 96/200\n",
      "6s - loss: 469.3679 - r2_keras: -2.2391e+00 - val_loss: 50.2397 - val_r2_keras: 0.6094\n",
      "Epoch 97/200\n",
      "7s - loss: 466.2644 - r2_keras: -2.2232e+00 - val_loss: 47.9747 - val_r2_keras: 0.6270\n",
      "Epoch 98/200\n",
      "6s - loss: 461.9069 - r2_keras: -2.2682e+00 - val_loss: 52.6627 - val_r2_keras: 0.5889\n",
      "Epoch 99/200\n",
      "6s - loss: 470.4737 - r2_keras: -2.1810e+00 - val_loss: 49.9186 - val_r2_keras: 0.6110\n",
      "Epoch 100/200\n",
      "6s - loss: 459.0357 - r2_keras: -2.1037e+00 - val_loss: 56.2351 - val_r2_keras: 0.5630\n",
      "Epoch 101/200\n",
      "5s - loss: 461.0180 - r2_keras: -2.2069e+00 - val_loss: 60.3536 - val_r2_keras: 0.5294\n",
      "Epoch 102/200\n",
      "6s - loss: 457.0541 - r2_keras: -2.1403e+00 - val_loss: 52.8516 - val_r2_keras: 0.5920\n",
      "Epoch 103/200\n",
      "6s - loss: 465.3150 - r2_keras: -2.1552e+00 - val_loss: 48.6807 - val_r2_keras: 0.6235\n",
      "Epoch 104/200\n",
      "6s - loss: 472.6547 - r2_keras: -2.2182e+00 - val_loss: 69.6321 - val_r2_keras: 0.4473\n",
      "Epoch 105/200\n",
      "6s - loss: 461.8418 - r2_keras: -2.2020e+00 - val_loss: 55.6857 - val_r2_keras: 0.5660\n",
      "Epoch 106/200\n",
      "7s - loss: 452.2195 - r2_keras: -2.1153e+00 - val_loss: 56.9435 - val_r2_keras: 0.5563\n",
      "Epoch 107/200\n",
      "7s - loss: 459.8528 - r2_keras: -2.1342e+00 - val_loss: 54.5151 - val_r2_keras: 0.5777\n",
      "Epoch 108/200\n",
      "6s - loss: 469.6962 - r2_keras: -2.1673e+00 - val_loss: 64.9552 - val_r2_keras: 0.4874\n",
      "Epoch 109/200\n",
      "6s - loss: 465.1688 - r2_keras: -2.1986e+00 - val_loss: 56.0033 - val_r2_keras: 0.5639\n",
      "Epoch 110/200\n",
      "6s - loss: 454.9704 - r2_keras: -2.0970e+00 - val_loss: 51.0359 - val_r2_keras: 0.6033\n",
      "Epoch 111/200\n",
      "6s - loss: 475.8983 - r2_keras: -2.2439e+00 - val_loss: 60.4017 - val_r2_keras: 0.5301\n",
      "Epoch 112/200\n",
      "6s - loss: 453.1460 - r2_keras: -2.1157e+00 - val_loss: 52.0566 - val_r2_keras: 0.5979\n",
      "Epoch 113/200\n",
      "6s - loss: 459.0515 - r2_keras: -2.1290e+00 - val_loss: 53.2779 - val_r2_keras: 0.5852\n",
      "Epoch 114/200\n",
      "6s - loss: 461.5375 - r2_keras: -2.2225e+00 - val_loss: 62.6400 - val_r2_keras: 0.5059\n",
      "Epoch 115/200\n",
      "6s - loss: 458.4957 - r2_keras: -2.1672e+00 - val_loss: 53.1073 - val_r2_keras: 0.5866\n",
      "Epoch 116/200\n",
      "6s - loss: 470.1677 - r2_keras: -2.1336e+00 - val_loss: 52.9928 - val_r2_keras: 0.5870\n",
      "Epoch 117/200\n",
      "6s - loss: 462.8342 - r2_keras: -2.2133e+00 - val_loss: 57.3235 - val_r2_keras: 0.5503\n",
      "Epoch 118/200\n",
      "6s - loss: 440.3454 - r2_keras: -2.0725e+00 - val_loss: 52.2364 - val_r2_keras: 0.5918\n",
      "Epoch 119/200\n",
      "6s - loss: 439.3052 - r2_keras: -2.0147e+00 - val_loss: 60.8323 - val_r2_keras: 0.5203\n",
      "Epoch 120/200\n",
      "6s - loss: 442.2342 - r2_keras: -2.0935e+00 - val_loss: 62.5070 - val_r2_keras: 0.5039\n",
      "Epoch 121/200\n",
      "7s - loss: 441.9591 - r2_keras: -2.0820e+00 - val_loss: 55.2571 - val_r2_keras: 0.5689\n",
      "Epoch 122/200\n",
      "7s - loss: 442.0333 - r2_keras: -2.1258e+00 - val_loss: 54.9383 - val_r2_keras: 0.5691\n",
      "Epoch 123/200\n",
      "9s - loss: 441.3521 - r2_keras: -2.0043e+00 - val_loss: 54.5426 - val_r2_keras: 0.5750\n",
      "Epoch 124/200\n",
      "7s - loss: 436.4941 - r2_keras: -1.9948e+00 - val_loss: 55.8006 - val_r2_keras: 0.5636\n",
      "Epoch 125/200\n",
      "6s - loss: 432.3068 - r2_keras: -1.9763e+00 - val_loss: 54.5312 - val_r2_keras: 0.5737\n",
      "Epoch 126/200\n",
      "7s - loss: 448.0766 - r2_keras: -2.1737e+00 - val_loss: 55.9039 - val_r2_keras: 0.5590\n",
      "Epoch 127/200\n",
      "6s - loss: 454.1638 - r2_keras: -2.1589e+00 - val_loss: 52.5681 - val_r2_keras: 0.5888\n",
      "Epoch 128/200\n",
      "6s - loss: 439.8490 - r2_keras: -1.9743e+00 - val_loss: 54.0160 - val_r2_keras: 0.5761\n",
      "Epoch 129/200\n",
      "6s - loss: 445.0769 - r2_keras: -2.2031e+00 - val_loss: 55.1046 - val_r2_keras: 0.5711\n",
      "Epoch 130/200\n",
      "6s - loss: 443.9132 - r2_keras: -2.0918e+00 - val_loss: 55.0862 - val_r2_keras: 0.5711\n",
      "Epoch 131/200\n",
      "7s - loss: 436.4804 - r2_keras: -1.9535e+00 - val_loss: 52.6514 - val_r2_keras: 0.5884\n",
      "Epoch 132/200\n",
      "6s - loss: 441.1612 - r2_keras: -2.0552e+00 - val_loss: 55.7856 - val_r2_keras: 0.5638\n",
      "Epoch 133/200\n",
      "7s - loss: 427.3467 - r2_keras: -1.9372e+00 - val_loss: 53.1091 - val_r2_keras: 0.5855\n",
      "Epoch 134/200\n",
      "7s - loss: 440.0966 - r2_keras: -2.1094e+00 - val_loss: 57.0795 - val_r2_keras: 0.5499\n",
      "Epoch 135/200\n",
      "7s - loss: 426.1864 - r2_keras: -1.9580e+00 - val_loss: 57.1559 - val_r2_keras: 0.5506\n",
      "Epoch 136/200\n",
      "7s - loss: 441.7856 - r2_keras: -2.0408e+00 - val_loss: 54.3987 - val_r2_keras: 0.5726\n",
      "Epoch 137/200\n",
      "7s - loss: 440.9585 - r2_keras: -2.0504e+00 - val_loss: 73.7714 - val_r2_keras: 0.4131\n",
      "Epoch 138/200\n",
      "7s - loss: 436.1994 - r2_keras: -2.0449e+00 - val_loss: 62.8623 - val_r2_keras: 0.5051\n",
      "Epoch 139/200\n",
      "6s - loss: 422.7925 - r2_keras: -1.9296e+00 - val_loss: 57.9834 - val_r2_keras: 0.5417\n",
      "Epoch 140/200\n",
      "6s - loss: 415.3026 - r2_keras: -1.9046e+00 - val_loss: 60.5093 - val_r2_keras: 0.5229\n",
      "Epoch 141/200\n",
      "7s - loss: 443.9314 - r2_keras: -2.0755e+00 - val_loss: 56.4577 - val_r2_keras: 0.5583\n",
      "Epoch 142/200\n",
      "7s - loss: 432.0353 - r2_keras: -2.0160e+00 - val_loss: 52.1972 - val_r2_keras: 0.5934\n",
      "Epoch 143/200\n",
      "7s - loss: 433.6692 - r2_keras: -1.9724e+00 - val_loss: 61.9438 - val_r2_keras: 0.5079\n",
      "Epoch 144/200\n",
      "7s - loss: 437.2813 - r2_keras: -1.9808e+00 - val_loss: 52.9316 - val_r2_keras: 0.5875\n",
      "Epoch 145/200\n",
      "7s - loss: 430.6385 - r2_keras: -1.9816e+00 - val_loss: 58.2030 - val_r2_keras: 0.5404\n",
      "Epoch 146/200\n",
      "8s - loss: 443.7023 - r2_keras: -2.0065e+00 - val_loss: 52.8348 - val_r2_keras: 0.5858\n",
      "Epoch 147/200\n"
     ]
    },
    {
     "ename": "KeyboardInterrupt",
     "evalue": "",
     "output_type": "error",
     "traceback": [
      "\u001b[0;31m---------------------------------------------------------------------------\u001b[0m",
      "\u001b[0;31mKeyboardInterrupt\u001b[0m                         Traceback (most recent call last)",
      "\u001b[0;32m<ipython-input-147-09d012628180>\u001b[0m in \u001b[0;36m<module>\u001b[0;34m()\u001b[0m\n\u001b[1;32m      4\u001b[0m           \u001b[0mvalidation_split\u001b[0m\u001b[0;34m=\u001b[0m\u001b[0;36m0.2\u001b[0m\u001b[0;34m,\u001b[0m\u001b[0;34m\u001b[0m\u001b[0m\n\u001b[1;32m      5\u001b[0m           \u001b[0mshuffle\u001b[0m\u001b[0;34m=\u001b[0m\u001b[0mTrue\u001b[0m\u001b[0;34m,\u001b[0m\u001b[0;34m\u001b[0m\u001b[0m\n\u001b[0;32m----> 6\u001b[0;31m           verbose=2)\n\u001b[0m",
      "\u001b[0;32m/usr/local/lib/python2.7/dist-packages/keras/models.pyc\u001b[0m in \u001b[0;36mfit\u001b[0;34m(self, x, y, batch_size, epochs, verbose, callbacks, validation_split, validation_data, shuffle, class_weight, sample_weight, initial_epoch, **kwargs)\u001b[0m\n\u001b[1;32m    868\u001b[0m                               \u001b[0mclass_weight\u001b[0m\u001b[0;34m=\u001b[0m\u001b[0mclass_weight\u001b[0m\u001b[0;34m,\u001b[0m\u001b[0;34m\u001b[0m\u001b[0m\n\u001b[1;32m    869\u001b[0m                               \u001b[0msample_weight\u001b[0m\u001b[0;34m=\u001b[0m\u001b[0msample_weight\u001b[0m\u001b[0;34m,\u001b[0m\u001b[0;34m\u001b[0m\u001b[0m\n\u001b[0;32m--> 870\u001b[0;31m                               initial_epoch=initial_epoch)\n\u001b[0m\u001b[1;32m    871\u001b[0m \u001b[0;34m\u001b[0m\u001b[0m\n\u001b[1;32m    872\u001b[0m     def evaluate(self, x, y, batch_size=32, verbose=1,\n",
      "\u001b[0;32m/usr/local/lib/python2.7/dist-packages/keras/engine/training.pyc\u001b[0m in \u001b[0;36mfit\u001b[0;34m(self, x, y, batch_size, epochs, verbose, callbacks, validation_split, validation_data, shuffle, class_weight, sample_weight, initial_epoch, **kwargs)\u001b[0m\n\u001b[1;32m   1505\u001b[0m                               \u001b[0mval_f\u001b[0m\u001b[0;34m=\u001b[0m\u001b[0mval_f\u001b[0m\u001b[0;34m,\u001b[0m \u001b[0mval_ins\u001b[0m\u001b[0;34m=\u001b[0m\u001b[0mval_ins\u001b[0m\u001b[0;34m,\u001b[0m \u001b[0mshuffle\u001b[0m\u001b[0;34m=\u001b[0m\u001b[0mshuffle\u001b[0m\u001b[0;34m,\u001b[0m\u001b[0;34m\u001b[0m\u001b[0m\n\u001b[1;32m   1506\u001b[0m                               \u001b[0mcallback_metrics\u001b[0m\u001b[0;34m=\u001b[0m\u001b[0mcallback_metrics\u001b[0m\u001b[0;34m,\u001b[0m\u001b[0;34m\u001b[0m\u001b[0m\n\u001b[0;32m-> 1507\u001b[0;31m                               initial_epoch=initial_epoch)\n\u001b[0m\u001b[1;32m   1508\u001b[0m \u001b[0;34m\u001b[0m\u001b[0m\n\u001b[1;32m   1509\u001b[0m     \u001b[0;32mdef\u001b[0m \u001b[0mevaluate\u001b[0m\u001b[0;34m(\u001b[0m\u001b[0mself\u001b[0m\u001b[0;34m,\u001b[0m \u001b[0mx\u001b[0m\u001b[0;34m,\u001b[0m \u001b[0my\u001b[0m\u001b[0;34m,\u001b[0m \u001b[0mbatch_size\u001b[0m\u001b[0;34m=\u001b[0m\u001b[0;36m32\u001b[0m\u001b[0;34m,\u001b[0m \u001b[0mverbose\u001b[0m\u001b[0;34m=\u001b[0m\u001b[0;36m1\u001b[0m\u001b[0;34m,\u001b[0m \u001b[0msample_weight\u001b[0m\u001b[0;34m=\u001b[0m\u001b[0mNone\u001b[0m\u001b[0;34m)\u001b[0m\u001b[0;34m:\u001b[0m\u001b[0;34m\u001b[0m\u001b[0m\n",
      "\u001b[0;32m/usr/local/lib/python2.7/dist-packages/keras/engine/training.pyc\u001b[0m in \u001b[0;36m_fit_loop\u001b[0;34m(self, f, ins, out_labels, batch_size, epochs, verbose, callbacks, val_f, val_ins, shuffle, callback_metrics, initial_epoch)\u001b[0m\n\u001b[1;32m   1154\u001b[0m                 \u001b[0mbatch_logs\u001b[0m\u001b[0;34m[\u001b[0m\u001b[0;34m'size'\u001b[0m\u001b[0;34m]\u001b[0m \u001b[0;34m=\u001b[0m \u001b[0mlen\u001b[0m\u001b[0;34m(\u001b[0m\u001b[0mbatch_ids\u001b[0m\u001b[0;34m)\u001b[0m\u001b[0;34m\u001b[0m\u001b[0m\n\u001b[1;32m   1155\u001b[0m                 \u001b[0mcallbacks\u001b[0m\u001b[0;34m.\u001b[0m\u001b[0mon_batch_begin\u001b[0m\u001b[0;34m(\u001b[0m\u001b[0mbatch_index\u001b[0m\u001b[0;34m,\u001b[0m \u001b[0mbatch_logs\u001b[0m\u001b[0;34m)\u001b[0m\u001b[0;34m\u001b[0m\u001b[0m\n\u001b[0;32m-> 1156\u001b[0;31m                 \u001b[0mouts\u001b[0m \u001b[0;34m=\u001b[0m \u001b[0mf\u001b[0m\u001b[0;34m(\u001b[0m\u001b[0mins_batch\u001b[0m\u001b[0;34m)\u001b[0m\u001b[0;34m\u001b[0m\u001b[0m\n\u001b[0m\u001b[1;32m   1157\u001b[0m                 \u001b[0;32mif\u001b[0m \u001b[0;32mnot\u001b[0m \u001b[0misinstance\u001b[0m\u001b[0;34m(\u001b[0m\u001b[0mouts\u001b[0m\u001b[0;34m,\u001b[0m \u001b[0mlist\u001b[0m\u001b[0;34m)\u001b[0m\u001b[0;34m:\u001b[0m\u001b[0;34m\u001b[0m\u001b[0m\n\u001b[1;32m   1158\u001b[0m                     \u001b[0mouts\u001b[0m \u001b[0;34m=\u001b[0m \u001b[0;34m[\u001b[0m\u001b[0mouts\u001b[0m\u001b[0;34m]\u001b[0m\u001b[0;34m\u001b[0m\u001b[0m\n",
      "\u001b[0;32m/usr/local/lib/python2.7/dist-packages/keras/backend/tensorflow_backend.pyc\u001b[0m in \u001b[0;36m__call__\u001b[0;34m(self, inputs)\u001b[0m\n\u001b[1;32m   2267\u001b[0m         updated = session.run(self.outputs + [self.updates_op],\n\u001b[1;32m   2268\u001b[0m                               \u001b[0mfeed_dict\u001b[0m\u001b[0;34m=\u001b[0m\u001b[0mfeed_dict\u001b[0m\u001b[0;34m,\u001b[0m\u001b[0;34m\u001b[0m\u001b[0m\n\u001b[0;32m-> 2269\u001b[0;31m                               **self.session_kwargs)\n\u001b[0m\u001b[1;32m   2270\u001b[0m         \u001b[0;32mreturn\u001b[0m \u001b[0mupdated\u001b[0m\u001b[0;34m[\u001b[0m\u001b[0;34m:\u001b[0m\u001b[0mlen\u001b[0m\u001b[0;34m(\u001b[0m\u001b[0mself\u001b[0m\u001b[0;34m.\u001b[0m\u001b[0moutputs\u001b[0m\u001b[0;34m)\u001b[0m\u001b[0;34m]\u001b[0m\u001b[0;34m\u001b[0m\u001b[0m\n\u001b[1;32m   2271\u001b[0m \u001b[0;34m\u001b[0m\u001b[0m\n",
      "\u001b[0;32m/usr/local/lib/python2.7/dist-packages/tensorflow/python/client/session.pyc\u001b[0m in \u001b[0;36mrun\u001b[0;34m(self, fetches, feed_dict, options, run_metadata)\u001b[0m\n\u001b[1;32m    787\u001b[0m     \u001b[0;32mtry\u001b[0m\u001b[0;34m:\u001b[0m\u001b[0;34m\u001b[0m\u001b[0m\n\u001b[1;32m    788\u001b[0m       result = self._run(None, fetches, feed_dict, options_ptr,\n\u001b[0;32m--> 789\u001b[0;31m                          run_metadata_ptr)\n\u001b[0m\u001b[1;32m    790\u001b[0m       \u001b[0;32mif\u001b[0m \u001b[0mrun_metadata\u001b[0m\u001b[0;34m:\u001b[0m\u001b[0;34m\u001b[0m\u001b[0m\n\u001b[1;32m    791\u001b[0m         \u001b[0mproto_data\u001b[0m \u001b[0;34m=\u001b[0m \u001b[0mtf_session\u001b[0m\u001b[0;34m.\u001b[0m\u001b[0mTF_GetBuffer\u001b[0m\u001b[0;34m(\u001b[0m\u001b[0mrun_metadata_ptr\u001b[0m\u001b[0;34m)\u001b[0m\u001b[0;34m\u001b[0m\u001b[0m\n",
      "\u001b[0;32m/usr/local/lib/python2.7/dist-packages/tensorflow/python/client/session.pyc\u001b[0m in \u001b[0;36m_run\u001b[0;34m(self, handle, fetches, feed_dict, options, run_metadata)\u001b[0m\n\u001b[1;32m    995\u001b[0m     \u001b[0;32mif\u001b[0m \u001b[0mfinal_fetches\u001b[0m \u001b[0;32mor\u001b[0m \u001b[0mfinal_targets\u001b[0m\u001b[0;34m:\u001b[0m\u001b[0;34m\u001b[0m\u001b[0m\n\u001b[1;32m    996\u001b[0m       results = self._do_run(handle, final_targets, final_fetches,\n\u001b[0;32m--> 997\u001b[0;31m                              feed_dict_string, options, run_metadata)\n\u001b[0m\u001b[1;32m    998\u001b[0m     \u001b[0;32melse\u001b[0m\u001b[0;34m:\u001b[0m\u001b[0;34m\u001b[0m\u001b[0m\n\u001b[1;32m    999\u001b[0m       \u001b[0mresults\u001b[0m \u001b[0;34m=\u001b[0m \u001b[0;34m[\u001b[0m\u001b[0;34m]\u001b[0m\u001b[0;34m\u001b[0m\u001b[0m\n",
      "\u001b[0;32m/usr/local/lib/python2.7/dist-packages/tensorflow/python/client/session.pyc\u001b[0m in \u001b[0;36m_do_run\u001b[0;34m(self, handle, target_list, fetch_list, feed_dict, options, run_metadata)\u001b[0m\n\u001b[1;32m   1130\u001b[0m     \u001b[0;32mif\u001b[0m \u001b[0mhandle\u001b[0m \u001b[0;32mis\u001b[0m \u001b[0mNone\u001b[0m\u001b[0;34m:\u001b[0m\u001b[0;34m\u001b[0m\u001b[0m\n\u001b[1;32m   1131\u001b[0m       return self._do_call(_run_fn, self._session, feed_dict, fetch_list,\n\u001b[0;32m-> 1132\u001b[0;31m                            target_list, options, run_metadata)\n\u001b[0m\u001b[1;32m   1133\u001b[0m     \u001b[0;32melse\u001b[0m\u001b[0;34m:\u001b[0m\u001b[0;34m\u001b[0m\u001b[0m\n\u001b[1;32m   1134\u001b[0m       return self._do_call(_prun_fn, self._session, handle, feed_dict,\n",
      "\u001b[0;32m/usr/local/lib/python2.7/dist-packages/tensorflow/python/client/session.pyc\u001b[0m in \u001b[0;36m_do_call\u001b[0;34m(self, fn, *args)\u001b[0m\n\u001b[1;32m   1137\u001b[0m   \u001b[0;32mdef\u001b[0m \u001b[0m_do_call\u001b[0m\u001b[0;34m(\u001b[0m\u001b[0mself\u001b[0m\u001b[0;34m,\u001b[0m \u001b[0mfn\u001b[0m\u001b[0;34m,\u001b[0m \u001b[0;34m*\u001b[0m\u001b[0margs\u001b[0m\u001b[0;34m)\u001b[0m\u001b[0;34m:\u001b[0m\u001b[0;34m\u001b[0m\u001b[0m\n\u001b[1;32m   1138\u001b[0m     \u001b[0;32mtry\u001b[0m\u001b[0;34m:\u001b[0m\u001b[0;34m\u001b[0m\u001b[0m\n\u001b[0;32m-> 1139\u001b[0;31m       \u001b[0;32mreturn\u001b[0m \u001b[0mfn\u001b[0m\u001b[0;34m(\u001b[0m\u001b[0;34m*\u001b[0m\u001b[0margs\u001b[0m\u001b[0;34m)\u001b[0m\u001b[0;34m\u001b[0m\u001b[0m\n\u001b[0m\u001b[1;32m   1140\u001b[0m     \u001b[0;32mexcept\u001b[0m \u001b[0merrors\u001b[0m\u001b[0;34m.\u001b[0m\u001b[0mOpError\u001b[0m \u001b[0;32mas\u001b[0m \u001b[0me\u001b[0m\u001b[0;34m:\u001b[0m\u001b[0;34m\u001b[0m\u001b[0m\n\u001b[1;32m   1141\u001b[0m       \u001b[0mmessage\u001b[0m \u001b[0;34m=\u001b[0m \u001b[0mcompat\u001b[0m\u001b[0;34m.\u001b[0m\u001b[0mas_text\u001b[0m\u001b[0;34m(\u001b[0m\u001b[0me\u001b[0m\u001b[0;34m.\u001b[0m\u001b[0mmessage\u001b[0m\u001b[0;34m)\u001b[0m\u001b[0;34m\u001b[0m\u001b[0m\n",
      "\u001b[0;32m/usr/local/lib/python2.7/dist-packages/tensorflow/python/client/session.pyc\u001b[0m in \u001b[0;36m_run_fn\u001b[0;34m(session, feed_dict, fetch_list, target_list, options, run_metadata)\u001b[0m\n\u001b[1;32m   1119\u001b[0m         return tf_session.TF_Run(session, options,\n\u001b[1;32m   1120\u001b[0m                                  \u001b[0mfeed_dict\u001b[0m\u001b[0;34m,\u001b[0m \u001b[0mfetch_list\u001b[0m\u001b[0;34m,\u001b[0m \u001b[0mtarget_list\u001b[0m\u001b[0;34m,\u001b[0m\u001b[0;34m\u001b[0m\u001b[0m\n\u001b[0;32m-> 1121\u001b[0;31m                                  status, run_metadata)\n\u001b[0m\u001b[1;32m   1122\u001b[0m \u001b[0;34m\u001b[0m\u001b[0m\n\u001b[1;32m   1123\u001b[0m     \u001b[0;32mdef\u001b[0m \u001b[0m_prun_fn\u001b[0m\u001b[0;34m(\u001b[0m\u001b[0msession\u001b[0m\u001b[0;34m,\u001b[0m \u001b[0mhandle\u001b[0m\u001b[0;34m,\u001b[0m \u001b[0mfeed_dict\u001b[0m\u001b[0;34m,\u001b[0m \u001b[0mfetch_list\u001b[0m\u001b[0;34m)\u001b[0m\u001b[0;34m:\u001b[0m\u001b[0;34m\u001b[0m\u001b[0m\n",
      "\u001b[0;31mKeyboardInterrupt\u001b[0m: "
     ]
    }
   ],
   "source": [
    "model.fit(train_dataset_x_padded, \n",
    "          train_dataset_y, \n",
    "          epochs=200, \n",
    "          validation_split=0.2,\n",
    "          shuffle=True,\n",
    "          verbose=2)"
   ]
  },
  {
   "cell_type": "markdown",
   "metadata": {},
   "source": [
    "## Kaggle predictions"
   ]
  },
  {
   "cell_type": "code",
   "execution_count": 77,
   "metadata": {},
   "outputs": [
    {
     "data": {
      "text/plain": [
       "(4209,)"
      ]
     },
     "execution_count": 77,
     "metadata": {},
     "output_type": "execute_result"
    }
   ],
   "source": [
    "kaggle_preds = gbm.predict(test_input.values)\n",
    "kaggle_preds.shape"
   ]
  },
  {
   "cell_type": "code",
   "execution_count": 79,
   "metadata": {},
   "outputs": [
    {
     "data": {
      "text/html": [
       "<div>\n",
       "<style>\n",
       "    .dataframe thead tr:only-child th {\n",
       "        text-align: right;\n",
       "    }\n",
       "\n",
       "    .dataframe thead th {\n",
       "        text-align: left;\n",
       "    }\n",
       "\n",
       "    .dataframe tbody tr th {\n",
       "        vertical-align: top;\n",
       "    }\n",
       "</style>\n",
       "<table border=\"1\" class=\"dataframe\">\n",
       "  <thead>\n",
       "    <tr style=\"text-align: right;\">\n",
       "      <th></th>\n",
       "      <th>ID</th>\n",
       "      <th>y</th>\n",
       "    </tr>\n",
       "  </thead>\n",
       "  <tbody>\n",
       "    <tr>\n",
       "      <th>0</th>\n",
       "      <td>1</td>\n",
       "      <td>79.069446</td>\n",
       "    </tr>\n",
       "    <tr>\n",
       "      <th>1</th>\n",
       "      <td>2</td>\n",
       "      <td>95.031323</td>\n",
       "    </tr>\n",
       "    <tr>\n",
       "      <th>2</th>\n",
       "      <td>3</td>\n",
       "      <td>78.065370</td>\n",
       "    </tr>\n",
       "    <tr>\n",
       "      <th>3</th>\n",
       "      <td>4</td>\n",
       "      <td>78.209953</td>\n",
       "    </tr>\n",
       "    <tr>\n",
       "      <th>4</th>\n",
       "      <td>5</td>\n",
       "      <td>115.343554</td>\n",
       "    </tr>\n",
       "  </tbody>\n",
       "</table>\n",
       "</div>"
      ],
      "text/plain": [
       "   ID           y\n",
       "0   1   79.069446\n",
       "1   2   95.031323\n",
       "2   3   78.065370\n",
       "3   4   78.209953\n",
       "4   5  115.343554"
      ]
     },
     "execution_count": 79,
     "metadata": {},
     "output_type": "execute_result"
    }
   ],
   "source": [
    "test_df['y'] = kaggle_preds\n",
    "test_df[['ID', 'y']].head()"
   ]
  },
  {
   "cell_type": "code",
   "execution_count": 80,
   "metadata": {
    "collapsed": true
   },
   "outputs": [],
   "source": [
    "test_df[['ID', 'y']].to_csv(\"../data/submission_lightgbm_benchmark.csv\", index=False)"
   ]
  }
 ],
 "metadata": {
  "kernelspec": {
   "display_name": "Python 2",
   "language": "python",
   "name": "python2"
  },
  "language_info": {
   "codemirror_mode": {
    "name": "ipython",
    "version": 2
   },
   "file_extension": ".py",
   "mimetype": "text/x-python",
   "name": "python",
   "nbconvert_exporter": "python",
   "pygments_lexer": "ipython2",
   "version": "2.7.14"
  }
 },
 "nbformat": 4,
 "nbformat_minor": 2
}
